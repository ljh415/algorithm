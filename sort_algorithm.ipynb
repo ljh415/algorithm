{
 "cells": [
  {
   "cell_type": "markdown",
   "metadata": {},
   "source": [
    "## 그전에 : 인덱스 슬라이싱\n",
    " - a라는 연속적인 객체들의 자료구조 (리스트, 튜플, 문자열)\n",
    " - 기본 형태 : `a[start : end : step]`\n",
    "   - start : 슬라이싱을 시작할 시작위치\n",
    "   - end : 슬라이싱을 끝낼 위치로 ##end는 포함하지 않는다##\n",
    "   - step : stride라고도 하며 몇개씩 끊어서 가져올지를 정한다 (옵션)"
   ]
  },
  {
   "cell_type": "markdown",
   "metadata": {},
   "source": [
    "# Bubble Sort(버블정렬)\n",
    "\n",
    " - 이웃한 두 값을 비교하여 정렬\n",
    " - 큰 값이 오른쪽으로 이동하는 과정이 반복, 비교했던 모든 값들의 최댓값이 맨 오른쪽으로 옮겨진다\n",
    " - 시간 복잡도 : 최악 = O(n^2), 정렬만 잘 되어있다면 O(n)"
   ]
  },
  {
   "cell_type": "code",
   "execution_count": 1,
   "metadata": {},
   "outputs": [],
   "source": [
    "def swap(x, i, j) :\n",
    "    x[i], x[j] = x[j], x[i]\n",
    "    \n",
    "def bubblesort(x) :\n",
    "    for size in reversed(range(len(x))) :\n",
    "        for i in range(size) :\n",
    "            if x[i] > x[i+1] :\n",
    "                swap(x, i, i+1)"
   ]
  },
  {
   "cell_type": "markdown",
   "metadata": {},
   "source": [
    "# Selection Sort(선택정렬)\n",
    " - 주어진 배열에서 최댓값(최솟값)을 찾아 맨 오른쪽(왼쪽)값과 교체, 최댓값을 맨 오른쪽으로 보낸다는 점에서 버블정렬과 비슷\n",
    " - 하지만 이웃한 두 값을 정렬하는 과정이 없기 때문에 대체로 버블정렬보단 빠르다\n",
    " - 시간 복잡도 : 정렬상태와 관계없이 언제나 O(n^2)"
   ]
  },
  {
   "cell_type": "code",
   "execution_count": null,
   "metadata": {},
   "outputs": [],
   "source": [
    "def swap(x, i, j) :\n",
    "    x[i], x[j] = x[j], x[i]\n",
    "    \n",
    "def selectionSort(x) :\n",
    "    for size in reversed(range(len(x))) :\n",
    "        max_i = 0\n",
    "        for i in range(1, 1+size) :\n",
    "            if x[i] > x[max_i] :\n",
    "                max_i = i\n",
    "        swap(x, max_i, size)"
   ]
  },
  {
   "cell_type": "markdown",
   "metadata": {},
   "source": [
    "# Insertion Sort(삽입정렬)\n",
    " - 정렬되지 않은 값을 이미 정렬된 배열 사이에 끼워 넣는 과정 반복\n",
    " - 시간 복잡도 : O(n^2), 하지만 평균적으로 선택정렬, 버블정렬보다는 빠르다\n",
    " - 버블정렬과 마찬가지로 이미 정렬되어 있다면 O(n)\n",
    " - 하지만 역순으로 정렬된 상태라면 삽입을 위해 값을 하나씩 뒤로 밀어내는 과정을 아주 많이 반복.. 느림"
   ]
  },
  {
   "cell_type": "code",
   "execution_count": 3,
   "metadata": {},
   "outputs": [],
   "source": [
    "def insertionSort(x) :\n",
    "    for size in range(1, len(x)) :\n",
    "        val = x[size]\n",
    "        i = size\n",
    "        while i > 0 and x[i-1] > val :\n",
    "            x[i] = x[i-1]\n",
    "            i -= 1\n",
    "        x[i] = val"
   ]
  },
  {
   "cell_type": "markdown",
   "metadata": {},
   "source": [
    "# Shell Sort(셸 정렬)\n",
    " - 삽입 정렬은 거의 정렬된 배열에서 최적의 성능을 냄 + 값 하나씩 위치를 결정하여 비효율 적\n",
    " - 주어진 간격만큼 듬성듬성 떨어진 서브배열을 만들어 삽입 정렬을 수행 (간격=3이면 3개의 서브배열 생성)\n",
    " - 모든 서브배열에 대해 삽입 정렬을 완료하면, 간격을 줄여 반복(보통 절반)\n",
    " - 간격이 1이 되면 거의 정렬이 된 상태\n",
    " - 시간 복잡도 : 배열이 이미 정렬되어 있다면 O(n * log n), 최악의 경우 O(n^2)"
   ]
  },
  {
   "cell_type": "code",
   "execution_count": 4,
   "metadata": {},
   "outputs": [],
   "source": [
    "def gapInsertionSort(x, start, gap) :\n",
    "    for target in range(start+gap, len(x), gap) :\n",
    "        val = x[target] \n",
    "        i = target\n",
    "        while i > start :\n",
    "            if x[i-gap] > val :\n",
    "                x[i] = x[i-gap]\n",
    "            else :\n",
    "                break\n",
    "            i -= gap\n",
    "        x[i] = val\n",
    "        \n",
    "def shellSort(x) :\n",
    "    gap = len(x) // 2\n",
    "    while gap > 0 :\n",
    "        for start in range(gap) :\n",
    "            gapInsertionSort(x, start, gap)\n",
    "        gap = gap//2"
   ]
  },
  {
   "cell_type": "markdown",
   "metadata": {},
   "source": [
    "# Merge Sort(병합 정렬)\n",
    " - 두 부분을 쪼개는 작업을 재귀적으로 반복한 뒤, 쪼갠 순서의 반대로 작은 값부터 병합해나가는 분할 정복 알고리즘\n",
    " - 두 부분으로 쪼개는 데 O(log n)(이진 탐색), 병합 O(n), 정렬상태와 무관하게 언제나 **O(n * log n)**\n",
    " - 데이터 크기만한 메모리가 더 필요한게 단점"
   ]
  },
  {
   "cell_type": "code",
   "execution_count": 5,
   "metadata": {},
   "outputs": [],
   "source": [
    "def mergeSort(x) :\n",
    "    if len(x) > 1 :\n",
    "        mid = len(x) // 2\n",
    "        lx, rx = x[:mid], x[mid:]\n",
    "        mergeSort(lx)\n",
    "        mergeSort(rx)\n",
    "        \n",
    "        li, ri, i = 0, 0, 0\n",
    "        while li < len(lx) and ri < len(rx) :\n",
    "            if lx[li] < rx[ri] :\n",
    "                x[i] = lx[li]\n",
    "                li += 1\n",
    "            else :\n",
    "                x[i] = rx[ri]\n",
    "                ri += 1\n",
    "            i += 1\n",
    "        x[i:] = lx[li:] if li != len(lx) else rx[ri:]"
   ]
  },
  {
   "cell_type": "markdown",
   "metadata": {},
   "source": [
    "# Quick Sort(퀵 정렬)\n",
    " - 피벗 원소를 정하여 피벗보다 작은 값은 피벗 앞 쪽에, 큰 값은 피벗 뒤 쪽에 오도록 한다\n",
    " - 피벗 양 쪽 배열에 대해 같은 작업을 반복해나간다 : 분할 정복 방법의 일종\n",
    " - 재귀 호출이 진행될 ㄸ마다 최소한 하나의 원소(피벗)는 최종적으로 위치가 정해진다\n",
    " - 병합정렬은 데이터를 쪼갠 뒤 합치는 과정에서 정렬하지만, 퀵정렬은 데이터를 쪼개면서 정렬\n",
    " - 절반으로 쪼갠다면 **O(log n)** 이고 n개의 값을 피벗과 비교하므로 **O(n * log n)**\n",
    " - 피벗 선정 기준에 다라 쪼개는 위치가 한 쪽에 치우쳐 있을 수도 있다 : 이미 정렬, 맨끝의 원소를 피벗으로 선정)\n",
    " → 시간복잡도가 O(n)에서 O(n^2)까지 증가\n",
    " - 퀵정렬의 파이썬 구현을 찾아보면 O(n)의 추가 메모리를 사용하는 방식으로 구현을 많이한다\n",
    " - 추가 메모리를 사용하지만 실행속도는 빨라지고 stable한 퀵정렬이 된다"
   ]
  },
  {
   "cell_type": "code",
   "execution_count": 6,
   "metadata": {},
   "outputs": [],
   "source": [
    "def swap(x, i, j) :\n",
    "    x[i], x[j] = x[j], x[i]\n",
    "    \n",
    "def pivotFirst(x, lmark, rmakr) :\n",
    "    pivot_val = x[lmark]\n",
    "    pivot_idx = lmark\n",
    "    while lmark <= rmark :\n",
    "        while lmark <= rmark and x[lmark] <= pivot_val :\n",
    "            lmark += 1\n",
    "        while lmark <= rmark and x[rmark] >= pivot_val :\n",
    "            rmark -= 1\n",
    "        if lmark <= rmark :\n",
    "            swap(x, lmark, rmark)\n",
    "            lmark += 1\n",
    "            rmark -= 1\n",
    "    swap(x, pivot_idx, rmakr)\n",
    "    return rmark\n",
    "\n",
    "def quickSort(x, pivotMethod=pivotFirst) :\n",
    "    def _qsort(x, first, last) :\n",
    "        if first < last :\n",
    "            splitpoint = pivotMethod(x, first, last)\n",
    "            _qsort(x, first, splitpoint-1)\n",
    "            -qsort(x, splitpoint+1, last)\n",
    "    _qsort(x, 0, len(x) - 1)"
   ]
  },
  {
   "cell_type": "code",
   "execution_count": null,
   "metadata": {},
   "outputs": [],
   "source": []
  }
 ],
 "metadata": {
  "kernelspec": {
   "display_name": "Python 3",
   "language": "python",
   "name": "python3"
  },
  "language_info": {
   "codemirror_mode": {
    "name": "ipython",
    "version": 3
   },
   "file_extension": ".py",
   "mimetype": "text/x-python",
   "name": "python",
   "nbconvert_exporter": "python",
   "pygments_lexer": "ipython3",
   "version": "3.7.3"
  }
 },
 "nbformat": 4,
 "nbformat_minor": 2
}
